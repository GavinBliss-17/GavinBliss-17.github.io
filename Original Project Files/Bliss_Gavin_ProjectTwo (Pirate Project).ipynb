{
 "cells": [
  {
   "cell_type": "markdown",
   "metadata": {},
   "source": [
    "# Treasure Hunt Game Notebook\n",
    "\n",
    "## Read and Review Your Starter Code\n",
    "The theme of this project is a popular treasure hunt game in which the player needs to find the treasure before the pirate does. While you will not be developing the entire game, you will write the part of the game that represents the intelligent agent, which is a pirate in this case. The pirate will try to find the optimal path to the treasure using deep Q-learning. \n",
    "\n",
    "You have been provided with two Python classes and this notebook to help you with this assignment. The first class, TreasureMaze.py, represents the environment, which includes a maze object defined as a matrix. The second class, GameExperience.py, stores the episodes – that is, all the states that come in between the initial state and the terminal state. This is later used by the agent for learning by experience, called \"exploration\". This notebook shows how to play a game. Your task is to complete the deep Q-learning implementation for which a skeleton implementation has been provided. The code blocks you will need to complete has #TODO as a header.\n",
    "\n",
    "First, read and review the next few code and instruction blocks to understand the code that you have been given."
   ]
  },
  {
   "cell_type": "code",
   "execution_count": 1,
   "metadata": {},
   "outputs": [
    {
     "name": "stderr",
     "output_type": "stream",
     "text": [
      "Using TensorFlow backend.\n"
     ]
    }
   ],
   "source": [
    "from __future__ import print_function\n",
    "import os, sys, time, datetime, json, random\n",
    "import numpy as np\n",
    "from keras.models import Sequential\n",
    "from keras.layers.core import Dense, Activation\n",
    "from keras.optimizers import SGD , Adam, RMSprop\n",
    "from keras.layers.advanced_activations import PReLU\n",
    "import matplotlib.pyplot as plt\n",
    "from TreasureMaze import TreasureMaze\n",
    "from GameExperience import GameExperience\n",
    "%matplotlib inline"
   ]
  },
  {
   "cell_type": "markdown",
   "metadata": {},
   "source": [
    "The following code block contains an 8x8 matrix that will be used as a maze object:"
   ]
  },
  {
   "cell_type": "code",
   "execution_count": 2,
   "metadata": {},
   "outputs": [],
   "source": [
    "maze = np.array([\n",
    "    [ 1.,  0.,  1.,  1.,  1.,  1.,  1.,  1.],\n",
    "    [ 1.,  0.,  1.,  1.,  1.,  0.,  1.,  1.],\n",
    "    [ 1.,  1.,  1.,  1.,  0.,  1.,  0.,  1.],\n",
    "    [ 1.,  1.,  1.,  0.,  1.,  1.,  1.,  1.],\n",
    "    [ 1.,  1.,  0.,  1.,  1.,  1.,  1.,  1.],\n",
    "    [ 1.,  1.,  1.,  0.,  1.,  0.,  0.,  0.],\n",
    "    [ 1.,  1.,  1.,  0.,  1.,  1.,  1.,  1.],\n",
    "    [ 1.,  1.,  1.,  1.,  0.,  1.,  1.,  1.]\n",
    "])"
   ]
  },
  {
   "cell_type": "markdown",
   "metadata": {},
   "source": [
    "This helper function allows a visual representation of the maze object:"
   ]
  },
  {
   "cell_type": "code",
   "execution_count": 3,
   "metadata": {},
   "outputs": [],
   "source": [
    "def show(qmaze):\n",
    "    plt.grid('on')\n",
    "    nrows, ncols = qmaze.maze.shape\n",
    "    ax = plt.gca()\n",
    "    ax.set_xticks(np.arange(0.5, nrows, 1))\n",
    "    ax.set_yticks(np.arange(0.5, ncols, 1))\n",
    "    ax.set_xticklabels([])\n",
    "    ax.set_yticklabels([])\n",
    "    canvas = np.copy(qmaze.maze)\n",
    "    for row,col in qmaze.visited:\n",
    "        canvas[row,col] = 0.6\n",
    "    pirate_row, pirate_col, _ = qmaze.state\n",
    "    canvas[pirate_row, pirate_col] = 0.3   # pirate cell\n",
    "    canvas[nrows-1, ncols-1] = 0.9 # treasure cell\n",
    "    img = plt.imshow(canvas, interpolation='none', cmap='gray')\n",
    "    return img"
   ]
  },
  {
   "cell_type": "markdown",
   "metadata": {},
   "source": [
    "The pirate agent can move in four directions: left, right, up, and down. \n",
    "\n",
    "While the agent primarily learns by experience through exploitation, often, the agent can choose to explore the environment to find previously undiscovered paths. This is called \"exploration\" and is defined by epsilon. This value is typically a lower value such as 0.1, which means for every ten attempts, the agent will attempt to learn by experience nine times and will randomly explore a new path one time. You are encouraged to try various values for the exploration factor and see how the algorithm performs."
   ]
  },
  {
   "cell_type": "code",
   "execution_count": 4,
   "metadata": {},
   "outputs": [],
   "source": [
    "LEFT = 0\n",
    "UP = 1\n",
    "RIGHT = 2\n",
    "DOWN = 3\n",
    "\n",
    "\n",
    "# Exploration factor\n",
    "epsilon = 0.1\n",
    "\n",
    "# Actions dictionary\n",
    "actions_dict = {\n",
    "    LEFT: 'left',\n",
    "    UP: 'up',\n",
    "    RIGHT: 'right',\n",
    "    DOWN: 'down',\n",
    "}\n",
    "\n",
    "num_actions = len(actions_dict)\n"
   ]
  },
  {
   "cell_type": "markdown",
   "metadata": {},
   "source": [
    "The sample code block and output below show creating a maze object and performing one action (DOWN), which returns the reward. The resulting updated environment is visualized."
   ]
  },
  {
   "cell_type": "code",
   "execution_count": 5,
   "metadata": {},
   "outputs": [
    {
     "name": "stdout",
     "output_type": "stream",
     "text": [
      "reward= -0.04\n"
     ]
    },
    {
     "data": {
      "text/plain": [
       "<matplotlib.image.AxesImage at 0x2c69c469308>"
      ]
     },
     "execution_count": 5,
     "metadata": {},
     "output_type": "execute_result"
    },
    {
     "data": {
      "image/png": "[encoded data removed]",
      "text/plain": [
       "<Figure size 432x288 with 1 Axes>"
      ]
     },
     "metadata": {
      "needs_background": "light"
     },
     "output_type": "display_data"
    }
   ],
   "source": [
    "qmaze = TreasureMaze(maze)\n",
    "canvas, reward, game_over = qmaze.act(DOWN)\n",
    "print(\"reward=\", reward)\n",
    "show(qmaze)"
   ]
  },
  {
   "cell_type": "markdown",
   "metadata": {},
   "source": [
    "This function simulates a full game based on the provided trained model. The other parameters include the TreasureMaze object and the starting position of the pirate."
   ]
  },
  {
   "cell_type": "code",
   "execution_count": 6,
   "metadata": {},
   "outputs": [],
   "source": [
    "def play_game(model, qmaze, pirate_cell):\n",
    "    qmaze.reset(pirate_cell)\n",
    "    envstate = qmaze.observe()\n",
    "    while True:\n",
    "        prev_envstate = envstate\n",
    "        # get next action\n",
    "        q = model.predict(prev_envstate)\n",
    "        action = np.argmax(q[0])\n",
    "\n",
    "        # apply action, get rewards and new state\n",
    "        envstate, reward, game_status = qmaze.act(action)\n",
    "        if game_status == 'win':\n",
    "            return True\n",
    "        elif game_status == 'lose':\n",
    "            return False"
   ]
  },
  {
   "cell_type": "markdown",
   "metadata": {},
   "source": [
    "This function helps you to determine whether the pirate can win any game at all. If your maze is not well designed, the pirate may not win any game at all. In this case, your training would not yield any result. The provided maze in this notebook ensures that there is a path to win and you can run this method to check."
   ]
  },
  {
   "cell_type": "code",
   "execution_count": 7,
   "metadata": {},
   "outputs": [],
   "source": [
    "def completion_check(model, qmaze):\n",
    "    for cell in qmaze.free_cells:\n",
    "        if not qmaze.valid_actions(cell):\n",
    "            return False\n",
    "        if not play_game(model, qmaze, cell):\n",
    "            return False\n",
    "    return True"
   ]
  },
  {
   "cell_type": "markdown",
   "metadata": {},
   "source": [
    "The code you have been given in this block will build the neural network model. Review the code and note the number of layers, as well as the activation, optimizer, and loss functions that are used to train the model."
   ]
  },
  {
   "cell_type": "code",
   "execution_count": 8,
   "metadata": {},
   "outputs": [],
   "source": [
    "def build_model(maze):\n",
    "    model = Sequential()\n",
    "    model.add(Dense(maze.size, input_shape=(maze.size,)))\n",
    "    model.add(PReLU())\n",
    "    model.add(Dense(maze.size))\n",
    "    model.add(PReLU())\n",
    "    model.add(Dense(num_actions))\n",
    "    model.compile(optimizer='adam', loss='mse')\n",
    "    return model"
   ]
  },
  {
   "cell_type": "markdown",
   "metadata": {},
   "source": [
    "# #TODO: Complete the Q-Training Algorithm Code Block\n",
    "\n",
    "This is your deep Q-learning implementation. The goal of your deep Q-learning implementation is to find the best possible navigation sequence that results in reaching the treasure cell while maximizing the reward. In your implementation, you need to determine the optimal number of epochs to achieve a 100% win rate.\n",
    "\n",
    "You will need to complete the section starting with #pseudocode. The pseudocode has been included for you."
   ]
  },
  {
   "cell_type": "code",
   "execution_count": 9,
   "metadata": {},
   "outputs": [],
   "source": [
    "import datetime\n",
    "import numpy as np\n",
    "import random\n",
    "\n",
    "def format_time(seconds):\n",
    "    \"\"\"\n",
    "    Utility to format time into readable strings.\n",
    "    \n",
    "    Parameters:\n",
    "        seconds (float): Time duration in seconds.\n",
    "        \n",
    "    Returns:\n",
    "        str: Formatted time string.\n",
    "    \"\"\"\n",
    "    if seconds < 400:\n",
    "        return \"%.1f seconds\" % seconds\n",
    "    elif seconds < 4000:\n",
    "        return \"%.2f minutes\" % (seconds / 60.0)\n",
    "    else:\n",
    "        return \"%.2f hours\" % (seconds / 3600.0)\n",
    "\n",
    "def qtrain(model, maze, **opt):\n",
    "    \"\"\"\n",
    "    Trains a Q-learning model on a maze environment.\n",
    "    \n",
    "    Parameters:\n",
    "        model (keras.Model): Neural network model for Q-learning.\n",
    "        maze (np.array): Array representation of the maze.\n",
    "        **opt (dict): Additional options for training configuration.\n",
    "    \n",
    "    Returns:\n",
    "        float: Total training time in seconds.\n",
    "    \"\"\"\n",
    "    # Exploration factor for epsilon-greedy policy\n",
    "    global epsilon\n",
    "\n",
    "    # Training parameters\n",
    "    n_epoch = opt.get('n_epoch', 15000)  # Number of epochs\n",
    "    max_memory = opt.get('max_memory', 1000)  # Max memory for experience replay\n",
    "    data_size = opt.get('data_size', 50)  # Data size for training\n",
    "    \n",
    "    # Start time tracking\n",
    "    start_time = datetime.datetime.now()\n",
    "    \n",
    "    # Initialize environment/experience replay\n",
    "    qmaze = TreasureMaze(maze)\n",
    "    experience = GameExperience(model, max_memory=max_memory)\n",
    "    \n",
    "    # Win history tracking\n",
    "    win_history = []   \n",
    "    hsize = qmaze.maze.size // 2   # Size of win history window\n",
    "    win_rate = 0.0\n",
    "    \n",
    "    for epoch in range(n_epoch):\n",
    "        # Track game state/episodes for each epoch\n",
    "        game_over = False\n",
    "        n_episodes = 0\n",
    "        loss = 0.0\n",
    "        \n",
    "        # Randomly initialize agent's position in a free cell\n",
    "        agent_cell = random.choice(qmaze.free_cells)\n",
    "        qmaze.reset(agent_cell)  # Reset environment with agent at starting cell\n",
    "        envstate = qmaze.observe()  # Get initial environment state\n",
    "        \n",
    "        while not game_over:\n",
    "            # Obtain valid actions for current state\n",
    "            valid_actions = qmaze.valid_actions()\n",
    "            if not valid_actions:\n",
    "                break  # Exit if no valid actions are available\n",
    "            \n",
    "            prev_envstate = envstate  # Store current state before action\n",
    "            \n",
    "            # Choose action using epsilon-greedy strategy\n",
    "            if np.random.rand() < epsilon:\n",
    "                action = random.choice(valid_actions)  # Random action (exploration)\n",
    "            else:\n",
    "                action = np.argmax(experience.predict(envstate))  # Best predicted action (exploitation)\n",
    "            \n",
    "            # Perform action/observe new state and reward\n",
    "            envstate, reward, game_status = qmaze.act(action)\n",
    "            \n",
    "            # Update win/lose history based on game status\n",
    "            if game_status == 'win':\n",
    "                win_history.append(1)\n",
    "                game_over = True\n",
    "            elif game_status == 'lose':\n",
    "                win_history.append(0)\n",
    "                game_over = True\n",
    "            \n",
    "            # Save episode to memory/increase episode counter\n",
    "            episode = [prev_envstate, action, reward, envstate, game_status]\n",
    "            n_episodes += 1\n",
    "            experience.remember(episode)\n",
    "            \n",
    "            # Prepare training data from experience replay\n",
    "            inputs, targets = experience.get_data(data_size=data_size)\n",
    "            \n",
    "            # Train model/evaluate loss using train_on_batch\n",
    "            loss = model.train_on_batch(inputs, targets)\n",
    "        \n",
    "        # Update win rate based on recent history\n",
    "        if len(win_history) > hsize:\n",
    "            win_rate = sum(win_history[-hsize:]) / hsize\n",
    "\n",
    "        # Print progress for each epoch\n",
    "        dt = datetime.datetime.now() - start_time\n",
    "        t = format_time(dt.total_seconds())\n",
    "        template = \"Epoch: {:03d}/{:d} | Loss: {:.4f} | Episodes: {:d} | Win count: {:d} | Win rate: {:.3f} | time: {}\"\n",
    "        print(template.format(epoch, n_epoch-1, loss, n_episodes, sum(win_history), win_rate, t))\n",
    "        \n",
    "        # Adjust exploration factor (epsilon) if win rate exceeds threshold\n",
    "        if win_rate > 0.9: \n",
    "            epsilon = 0.05\n",
    "        \n",
    "        # Check for early stopping if agent has reached 100% win rate\n",
    "        if sum(win_history[-hsize:]) == hsize and completion_check(model, qmaze):\n",
    "            print(\"Reached 100%% win rate at epoch: %d\" % (epoch,))\n",
    "            break\n",
    "    \n",
    "    # Calculate total training time\n",
    "    dt = datetime.datetime.now() - start_time\n",
    "    seconds = dt.total_seconds()\n",
    "    t = format_time(seconds)\n",
    "    print(\"Training completed in %s\" % t)\n",
    "    print(\"n_epoch: %d, max_mem: %d, data: %d, time: %s\" % (epoch, max_memory, data_size, t))\n",
    "    \n",
    "    return seconds\n"
   ]
  },
  {
   "cell_type": "markdown",
   "metadata": {},
   "source": [
    "## Test Your Model\n",
    "\n",
    "Now we will start testing the deep Q-learning implementation. To begin, select **Cell**, then **Run All** from the menu bar. This will run your notebook. As it runs, you should see output begin to appear beneath the next few cells. The code below creates an instance of TreasureMaze."
   ]
  },
  {
   "cell_type": "code",
   "execution_count": 10,
   "metadata": {},
   "outputs": [
    {
     "data": {
      "text/plain": [
       "<matplotlib.image.AxesImage at 0x2c69c7d56c8>"
      ]
     },
     "execution_count": 10,
     "metadata": {},
     "output_type": "execute_result"
    },
    {
     "data": {
      "image/png": "[encoded data removed]",
      "text/plain": [
       "<Figure size 432x288 with 1 Axes>"
      ]
     },
     "metadata": {
      "needs_background": "light"
     },
     "output_type": "display_data"
    }
   ],
   "source": [
    "qmaze = TreasureMaze(maze)\n",
    "show(qmaze)"
   ]
  },
  {
   "cell_type": "markdown",
   "metadata": {},
   "source": [
    "In the next code block, you will build your model and train it using deep Q-learning. Note: This step takes several minutes to fully run."
   ]
  },
  {
   "cell_type": "code",
   "execution_count": 11,
   "metadata": {},
   "outputs": [
    {
     "name": "stdout",
     "output_type": "stream",
     "text": [
      "Epoch: 000/14999 | Loss: 0.0009 | Episodes: 139 | Win count: 0 | Win rate: 0.000 | time: 16.5 seconds\n",
      "Epoch: 001/14999 | Loss: 0.0012 | Episodes: 139 | Win count: 0 | Win rate: 0.000 | time: 32.6 seconds\n",
      "Epoch: 002/14999 | Loss: 0.0016 | Episodes: 145 | Win count: 0 | Win rate: 0.000 | time: 50.2 seconds\n",
      "Epoch: 003/14999 | Loss: 0.0016 | Episodes: 135 | Win count: 0 | Win rate: 0.000 | time: 66.3 seconds\n",
      "Epoch: 004/14999 | Loss: 0.0010 | Episodes: 145 | Win count: 0 | Win rate: 0.000 | time: 83.9 seconds\n",
      "Epoch: 005/14999 | Loss: 0.0010 | Episodes: 85 | Win count: 1 | Win rate: 0.000 | time: 94.6 seconds\n",
      "Epoch: 006/14999 | Loss: 0.0005 | Episodes: 136 | Win count: 1 | Win rate: 0.000 | time: 111.3 seconds\n",
      "Epoch: 007/14999 | Loss: 0.0012 | Episodes: 136 | Win count: 1 | Win rate: 0.000 | time: 128.0 seconds\n",
      "Epoch: 008/14999 | Loss: 0.0009 | Episodes: 78 | Win count: 2 | Win rate: 0.000 | time: 137.7 seconds\n",
      "Epoch: 009/14999 | Loss: 0.0016 | Episodes: 118 | Win count: 3 | Win rate: 0.000 | time: 152.2 seconds\n",
      "Epoch: 010/14999 | Loss: 0.0122 | Episodes: 135 | Win count: 3 | Win rate: 0.000 | time: 168.9 seconds\n",
      "Epoch: 011/14999 | Loss: 0.0008 | Episodes: 156 | Win count: 3 | Win rate: 0.000 | time: 188.0 seconds\n",
      "Epoch: 012/14999 | Loss: 0.0010 | Episodes: 144 | Win count: 3 | Win rate: 0.000 | time: 205.4 seconds\n",
      "Epoch: 013/14999 | Loss: 0.0016 | Episodes: 2 | Win count: 4 | Win rate: 0.000 | time: 205.7 seconds\n",
      "Epoch: 014/14999 | Loss: 0.0019 | Episodes: 53 | Win count: 5 | Win rate: 0.000 | time: 212.2 seconds\n",
      "Epoch: 015/14999 | Loss: 0.0020 | Episodes: 51 | Win count: 6 | Win rate: 0.000 | time: 218.7 seconds\n",
      "Epoch: 016/14999 | Loss: 0.0128 | Episodes: 134 | Win count: 6 | Win rate: 0.000 | time: 234.7 seconds\n",
      "Epoch: 017/14999 | Loss: 0.0020 | Episodes: 133 | Win count: 6 | Win rate: 0.000 | time: 250.9 seconds\n",
      "Epoch: 018/14999 | Loss: 0.0011 | Episodes: 1 | Win count: 7 | Win rate: 0.000 | time: 251.3 seconds\n",
      "Epoch: 019/14999 | Loss: 0.0009 | Episodes: 1 | Win count: 8 | Win rate: 0.000 | time: 251.4 seconds\n",
      "Epoch: 020/14999 | Loss: 0.0015 | Episodes: 10 | Win count: 9 | Win rate: 0.000 | time: 252.4 seconds\n",
      "Epoch: 021/14999 | Loss: 0.0016 | Episodes: 99 | Win count: 10 | Win rate: 0.000 | time: 264.4 seconds\n",
      "Epoch: 022/14999 | Loss: 0.0010 | Episodes: 42 | Win count: 11 | Win rate: 0.000 | time: 269.2 seconds\n",
      "Epoch: 023/14999 | Loss: 0.0010 | Episodes: 1 | Win count: 12 | Win rate: 0.000 | time: 269.3 seconds\n",
      "Epoch: 024/14999 | Loss: 0.0121 | Episodes: 137 | Win count: 12 | Win rate: 0.000 | time: 284.2 seconds\n",
      "Epoch: 025/14999 | Loss: 0.0024 | Episodes: 40 | Win count: 13 | Win rate: 0.000 | time: 289.3 seconds\n",
      "Epoch: 026/14999 | Loss: 0.0034 | Episodes: 18 | Win count: 14 | Win rate: 0.000 | time: 291.3 seconds\n",
      "Epoch: 027/14999 | Loss: 0.0011 | Episodes: 137 | Win count: 14 | Win rate: 0.000 | time: 306.5 seconds\n",
      "Epoch: 028/14999 | Loss: 0.0014 | Episodes: 136 | Win count: 14 | Win rate: 0.000 | time: 322.1 seconds\n",
      "Epoch: 029/14999 | Loss: 0.0013 | Episodes: 150 | Win count: 14 | Win rate: 0.000 | time: 339.9 seconds\n",
      "Epoch: 030/14999 | Loss: 0.0036 | Episodes: 11 | Win count: 15 | Win rate: 0.000 | time: 341.1 seconds\n",
      "Epoch: 031/14999 | Loss: 0.0024 | Episodes: 15 | Win count: 16 | Win rate: 0.000 | time: 342.9 seconds\n",
      "Epoch: 032/14999 | Loss: 0.0017 | Episodes: 5 | Win count: 17 | Win rate: 0.531 | time: 343.5 seconds\n",
      "Epoch: 033/14999 | Loss: 0.0083 | Episodes: 28 | Win count: 18 | Win rate: 0.562 | time: 346.7 seconds\n",
      "Epoch: 034/14999 | Loss: 0.0043 | Episodes: 149 | Win count: 19 | Win rate: 0.594 | time: 365.3 seconds\n",
      "Epoch: 035/14999 | Loss: 0.0012 | Episodes: 3 | Win count: 20 | Win rate: 0.625 | time: 365.5 seconds\n",
      "Epoch: 036/14999 | Loss: 0.0021 | Episodes: 21 | Win count: 21 | Win rate: 0.656 | time: 368.3 seconds\n",
      "Epoch: 037/14999 | Loss: 0.0018 | Episodes: 75 | Win count: 22 | Win rate: 0.656 | time: 377.4 seconds\n",
      "Epoch: 038/14999 | Loss: 0.0017 | Episodes: 39 | Win count: 23 | Win rate: 0.688 | time: 382.7 seconds\n",
      "Epoch: 039/14999 | Loss: 0.0021 | Episodes: 9 | Win count: 24 | Win rate: 0.719 | time: 383.8 seconds\n",
      "Epoch: 040/14999 | Loss: 0.0018 | Episodes: 52 | Win count: 25 | Win rate: 0.719 | time: 389.9 seconds\n",
      "Epoch: 041/14999 | Loss: 0.0015 | Episodes: 14 | Win count: 26 | Win rate: 0.719 | time: 391.6 seconds\n",
      "Epoch: 042/14999 | Loss: 0.0020 | Episodes: 3 | Win count: 27 | Win rate: 0.750 | time: 392.1 seconds\n",
      "Epoch: 043/14999 | Loss: 0.0018 | Episodes: 45 | Win count: 28 | Win rate: 0.781 | time: 397.5 seconds\n",
      "Epoch: 044/14999 | Loss: 0.0019 | Episodes: 29 | Win count: 29 | Win rate: 0.812 | time: 6.68 minutes\n",
      "Epoch: 045/14999 | Loss: 0.0019 | Episodes: 7 | Win count: 30 | Win rate: 0.812 | time: 6.70 minutes\n",
      "Epoch: 046/14999 | Loss: 0.0032 | Episodes: 51 | Win count: 31 | Win rate: 0.812 | time: 6.81 minutes\n",
      "Epoch: 047/14999 | Loss: 0.0017 | Episodes: 51 | Win count: 32 | Win rate: 0.812 | time: 6.91 minutes\n",
      "Epoch: 048/14999 | Loss: 0.0021 | Episodes: 46 | Win count: 33 | Win rate: 0.844 | time: 7.00 minutes\n",
      "Epoch: 049/14999 | Loss: 0.0012 | Episodes: 33 | Win count: 34 | Win rate: 0.875 | time: 7.07 minutes\n",
      "Epoch: 050/14999 | Loss: 0.0025 | Episodes: 20 | Win count: 35 | Win rate: 0.875 | time: 7.11 minutes\n",
      "Epoch: 051/14999 | Loss: 0.0018 | Episodes: 74 | Win count: 36 | Win rate: 0.875 | time: 7.27 minutes\n",
      "Epoch: 052/14999 | Loss: 0.0023 | Episodes: 35 | Win count: 37 | Win rate: 0.875 | time: 7.33 minutes\n",
      "Epoch: 053/14999 | Loss: 0.0018 | Episodes: 11 | Win count: 38 | Win rate: 0.875 | time: 7.35 minutes\n",
      "Epoch: 054/14999 | Loss: 0.0018 | Episodes: 8 | Win count: 39 | Win rate: 0.875 | time: 7.37 minutes\n",
      "Epoch: 055/14999 | Loss: 0.0019 | Episodes: 65 | Win count: 40 | Win rate: 0.875 | time: 7.50 minutes\n",
      "Epoch: 056/14999 | Loss: 0.0014 | Episodes: 37 | Win count: 41 | Win rate: 0.906 | time: 7.58 minutes\n",
      "Epoch: 057/14999 | Loss: 0.0020 | Episodes: 10 | Win count: 42 | Win rate: 0.906 | time: 7.60 minutes\n",
      "Epoch: 058/14999 | Loss: 0.0012 | Episodes: 40 | Win count: 43 | Win rate: 0.906 | time: 7.68 minutes\n",
      "Epoch: 059/14999 | Loss: 0.0019 | Episodes: 2 | Win count: 44 | Win rate: 0.938 | time: 7.68 minutes\n",
      "Epoch: 060/14999 | Loss: 0.0030 | Episodes: 26 | Win count: 45 | Win rate: 0.969 | time: 7.74 minutes\n",
      "Epoch: 061/14999 | Loss: 0.0021 | Episodes: 45 | Win count: 46 | Win rate: 1.000 | time: 7.83 minutes\n",
      "Epoch: 062/14999 | Loss: 0.0012 | Episodes: 12 | Win count: 47 | Win rate: 1.000 | time: 7.86 minutes\n",
      "Epoch: 063/14999 | Loss: 0.0015 | Episodes: 115 | Win count: 48 | Win rate: 1.000 | time: 8.09 minutes\n",
      "Epoch: 064/14999 | Loss: 0.0010 | Episodes: 3 | Win count: 49 | Win rate: 1.000 | time: 8.10 minutes\n",
      "Epoch: 065/14999 | Loss: 0.0019 | Episodes: 25 | Win count: 50 | Win rate: 1.000 | time: 8.16 minutes\n",
      "Epoch: 066/14999 | Loss: 0.0010 | Episodes: 14 | Win count: 51 | Win rate: 1.000 | time: 8.18 minutes\n",
      "Epoch: 067/14999 | Loss: 0.0012 | Episodes: 89 | Win count: 52 | Win rate: 1.000 | time: 8.37 minutes\n",
      "Epoch: 068/14999 | Loss: 0.0011 | Episodes: 36 | Win count: 53 | Win rate: 1.000 | time: 8.44 minutes\n",
      "Epoch: 069/14999 | Loss: 0.0011 | Episodes: 53 | Win count: 54 | Win rate: 1.000 | time: 8.56 minutes\n",
      "Epoch: 070/14999 | Loss: 0.0016 | Episodes: 4 | Win count: 55 | Win rate: 1.000 | time: 8.57 minutes\n",
      "Epoch: 071/14999 | Loss: 0.0017 | Episodes: 1 | Win count: 56 | Win rate: 1.000 | time: 8.57 minutes\n",
      "Epoch: 072/14999 | Loss: 0.0012 | Episodes: 32 | Win count: 57 | Win rate: 1.000 | time: 8.64 minutes\n",
      "Epoch: 073/14999 | Loss: 0.0010 | Episodes: 40 | Win count: 58 | Win rate: 1.000 | time: 8.73 minutes\n",
      "Epoch: 074/14999 | Loss: 0.0010 | Episodes: 16 | Win count: 59 | Win rate: 1.000 | time: 8.77 minutes\n",
      "Epoch: 075/14999 | Loss: 0.0010 | Episodes: 14 | Win count: 60 | Win rate: 1.000 | time: 8.80 minutes\n",
      "Epoch: 076/14999 | Loss: 0.0010 | Episodes: 24 | Win count: 61 | Win rate: 1.000 | time: 8.85 minutes\n",
      "Epoch: 077/14999 | Loss: 0.0007 | Episodes: 2 | Win count: 62 | Win rate: 1.000 | time: 8.86 minutes\n",
      "Epoch: 078/14999 | Loss: 0.0013 | Episodes: 4 | Win count: 63 | Win rate: 1.000 | time: 8.87 minutes\n",
      "Epoch: 079/14999 | Loss: 0.0011 | Episodes: 38 | Win count: 64 | Win rate: 1.000 | time: 8.96 minutes\n",
      "Epoch: 080/14999 | Loss: 0.0010 | Episodes: 41 | Win count: 65 | Win rate: 1.000 | time: 9.05 minutes\n",
      "Epoch: 081/14999 | Loss: 0.0006 | Episodes: 24 | Win count: 66 | Win rate: 1.000 | time: 9.10 minutes\n",
      "Epoch: 082/14999 | Loss: 0.0010 | Episodes: 23 | Win count: 67 | Win rate: 1.000 | time: 9.15 minutes\n",
      "Epoch: 083/14999 | Loss: 0.0009 | Episodes: 20 | Win count: 68 | Win rate: 1.000 | time: 9.19 minutes\n",
      "Epoch: 084/14999 | Loss: 0.0007 | Episodes: 9 | Win count: 69 | Win rate: 1.000 | time: 9.21 minutes\n",
      "Epoch: 085/14999 | Loss: 0.0013 | Episodes: 8 | Win count: 70 | Win rate: 1.000 | time: 9.23 minutes\n",
      "Epoch: 086/14999 | Loss: 0.0007 | Episodes: 25 | Win count: 71 | Win rate: 1.000 | time: 9.29 minutes\n",
      "Epoch: 087/14999 | Loss: 0.0007 | Episodes: 1 | Win count: 72 | Win rate: 1.000 | time: 9.29 minutes\n",
      "Epoch: 088/14999 | Loss: 0.0011 | Episodes: 24 | Win count: 73 | Win rate: 1.000 | time: 9.34 minutes\n",
      "Epoch: 089/14999 | Loss: 0.0006 | Episodes: 18 | Win count: 74 | Win rate: 1.000 | time: 9.37 minutes\n",
      "Epoch: 090/14999 | Loss: 0.0008 | Episodes: 24 | Win count: 75 | Win rate: 1.000 | time: 9.42 minutes\n",
      "Epoch: 091/14999 | Loss: 0.0010 | Episodes: 22 | Win count: 76 | Win rate: 1.000 | time: 9.46 minutes\n",
      "Epoch: 092/14999 | Loss: 0.0010 | Episodes: 5 | Win count: 77 | Win rate: 1.000 | time: 9.48 minutes\n",
      "Epoch: 093/14999 | Loss: 0.0010 | Episodes: 9 | Win count: 78 | Win rate: 1.000 | time: 9.50 minutes\n",
      "Epoch: 094/14999 | Loss: 0.0007 | Episodes: 6 | Win count: 79 | Win rate: 1.000 | time: 9.52 minutes\n",
      "Epoch: 095/14999 | Loss: 0.0013 | Episodes: 29 | Win count: 80 | Win rate: 1.000 | time: 9.58 minutes\n",
      "Epoch: 096/14999 | Loss: 0.0010 | Episodes: 19 | Win count: 81 | Win rate: 1.000 | time: 9.62 minutes\n",
      "Epoch: 097/14999 | Loss: 0.0007 | Episodes: 13 | Win count: 82 | Win rate: 1.000 | time: 9.66 minutes\n",
      "Epoch: 098/14999 | Loss: 0.0014 | Episodes: 1 | Win count: 83 | Win rate: 1.000 | time: 9.66 minutes\n",
      "Epoch: 099/14999 | Loss: 0.0011 | Episodes: 23 | Win count: 84 | Win rate: 1.000 | time: 9.71 minutes\n",
      "Epoch: 100/14999 | Loss: 0.0008 | Episodes: 13 | Win count: 85 | Win rate: 1.000 | time: 9.74 minutes\n",
      "Epoch: 101/14999 | Loss: 0.0009 | Episodes: 9 | Win count: 86 | Win rate: 1.000 | time: 9.76 minutes\n",
      "Epoch: 102/14999 | Loss: 0.0009 | Episodes: 12 | Win count: 87 | Win rate: 1.000 | time: 9.80 minutes\n",
      "Epoch: 103/14999 | Loss: 0.0009 | Episodes: 16 | Win count: 88 | Win rate: 1.000 | time: 9.84 minutes\n",
      "Epoch: 104/14999 | Loss: 0.0008 | Episodes: 11 | Win count: 89 | Win rate: 1.000 | time: 9.87 minutes\n",
      "Epoch: 105/14999 | Loss: 0.0004 | Episodes: 12 | Win count: 90 | Win rate: 1.000 | time: 9.90 minutes\n",
      "Epoch: 106/14999 | Loss: 0.0005 | Episodes: 12 | Win count: 91 | Win rate: 1.000 | time: 9.92 minutes\n",
      "Epoch: 107/14999 | Loss: 0.0013 | Episodes: 21 | Win count: 92 | Win rate: 1.000 | time: 9.96 minutes\n",
      "Epoch: 108/14999 | Loss: 0.0007 | Episodes: 13 | Win count: 93 | Win rate: 1.000 | time: 9.99 minutes\n",
      "Epoch: 109/14999 | Loss: 0.0004 | Episodes: 133 | Win count: 93 | Win rate: 0.969 | time: 10.25 minutes\n",
      "Epoch: 110/14999 | Loss: 0.0010 | Episodes: 36 | Win count: 94 | Win rate: 0.969 | time: 10.32 minutes\n",
      "Epoch: 111/14999 | Loss: 0.0008 | Episodes: 12 | Win count: 95 | Win rate: 0.969 | time: 10.34 minutes\n",
      "Epoch: 112/14999 | Loss: 0.0008 | Episodes: 50 | Win count: 96 | Win rate: 0.969 | time: 10.45 minutes\n",
      "Epoch: 113/14999 | Loss: 0.0003 | Episodes: 28 | Win count: 97 | Win rate: 0.969 | time: 10.50 minutes\n",
      "Epoch: 114/14999 | Loss: 0.0004 | Episodes: 42 | Win count: 98 | Win rate: 0.969 | time: 10.57 minutes\n",
      "Epoch: 115/14999 | Loss: 0.0008 | Episodes: 23 | Win count: 99 | Win rate: 0.969 | time: 10.62 minutes\n",
      "Epoch: 116/14999 | Loss: 0.0006 | Episodes: 41 | Win count: 100 | Win rate: 0.969 | time: 10.70 minutes\n",
      "Epoch: 117/14999 | Loss: 0.0009 | Episodes: 39 | Win count: 101 | Win rate: 0.969 | time: 10.78 minutes\n",
      "Epoch: 118/14999 | Loss: 0.0008 | Episodes: 5 | Win count: 102 | Win rate: 0.969 | time: 10.79 minutes\n",
      "Epoch: 119/14999 | Loss: 0.0007 | Episodes: 24 | Win count: 103 | Win rate: 0.969 | time: 10.85 minutes\n",
      "Epoch: 120/14999 | Loss: 0.0010 | Episodes: 27 | Win count: 104 | Win rate: 0.969 | time: 10.91 minutes\n",
      "Epoch: 121/14999 | Loss: 0.0019 | Episodes: 18 | Win count: 105 | Win rate: 0.969 | time: 10.95 minutes\n",
      "Epoch: 122/14999 | Loss: 0.0005 | Episodes: 21 | Win count: 106 | Win rate: 0.969 | time: 10.99 minutes\n",
      "Epoch: 123/14999 | Loss: 0.0010 | Episodes: 73 | Win count: 107 | Win rate: 0.969 | time: 11.14 minutes\n",
      "Epoch: 124/14999 | Loss: 0.0004 | Episodes: 5 | Win count: 108 | Win rate: 0.969 | time: 11.14 minutes\n",
      "Epoch: 125/14999 | Loss: 0.0007 | Episodes: 25 | Win count: 109 | Win rate: 0.969 | time: 11.19 minutes\n",
      "Epoch: 126/14999 | Loss: 0.0011 | Episodes: 42 | Win count: 110 | Win rate: 0.969 | time: 11.28 minutes\n",
      "Epoch: 127/14999 | Loss: 0.0012 | Episodes: 70 | Win count: 111 | Win rate: 0.969 | time: 11.41 minutes\n",
      "Epoch: 128/14999 | Loss: 0.0014 | Episodes: 20 | Win count: 112 | Win rate: 0.969 | time: 11.45 minutes\n",
      "Epoch: 129/14999 | Loss: 0.0009 | Episodes: 32 | Win count: 113 | Win rate: 0.969 | time: 11.51 minutes\n",
      "Epoch: 130/14999 | Loss: 0.0009 | Episodes: 14 | Win count: 114 | Win rate: 0.969 | time: 11.54 minutes\n",
      "Epoch: 131/14999 | Loss: 0.0009 | Episodes: 15 | Win count: 115 | Win rate: 0.969 | time: 11.58 minutes\n",
      "Epoch: 132/14999 | Loss: 0.0016 | Episodes: 12 | Win count: 116 | Win rate: 0.969 | time: 11.60 minutes\n",
      "Epoch: 133/14999 | Loss: 0.0006 | Episodes: 9 | Win count: 117 | Win rate: 0.969 | time: 11.61 minutes\n",
      "Epoch: 134/14999 | Loss: 0.0008 | Episodes: 3 | Win count: 118 | Win rate: 0.969 | time: 11.62 minutes\n",
      "Epoch: 135/14999 | Loss: 0.0013 | Episodes: 32 | Win count: 119 | Win rate: 0.969 | time: 11.68 minutes\n",
      "Epoch: 136/14999 | Loss: 0.0010 | Episodes: 24 | Win count: 120 | Win rate: 0.969 | time: 11.73 minutes\n",
      "Epoch: 137/14999 | Loss: 0.0037 | Episodes: 28 | Win count: 121 | Win rate: 0.969 | time: 11.79 minutes\n",
      "Epoch: 138/14999 | Loss: 0.0013 | Episodes: 1 | Win count: 122 | Win rate: 0.969 | time: 11.79 minutes\n",
      "Epoch: 139/14999 | Loss: 0.0011 | Episodes: 33 | Win count: 123 | Win rate: 0.969 | time: 11.87 minutes\n",
      "Epoch: 140/14999 | Loss: 0.0007 | Episodes: 25 | Win count: 124 | Win rate: 0.969 | time: 11.92 minutes\n",
      "Epoch: 141/14999 | Loss: 0.0009 | Episodes: 20 | Win count: 125 | Win rate: 1.000 | time: 11.96 minutes\n",
      "Epoch: 142/14999 | Loss: 0.0005 | Episodes: 4 | Win count: 126 | Win rate: 1.000 | time: 11.98 minutes\n",
      "Epoch: 143/14999 | Loss: 0.0010 | Episodes: 31 | Win count: 127 | Win rate: 1.000 | time: 12.05 minutes\n",
      "Epoch: 144/14999 | Loss: 0.0003 | Episodes: 28 | Win count: 128 | Win rate: 1.000 | time: 12.12 minutes\n",
      "Epoch: 145/14999 | Loss: 0.0007 | Episodes: 36 | Win count: 129 | Win rate: 1.000 | time: 12.19 minutes\n",
      "Epoch: 146/14999 | Loss: 0.0007 | Episodes: 21 | Win count: 130 | Win rate: 1.000 | time: 12.24 minutes\n",
      "Epoch: 147/14999 | Loss: 0.0008 | Episodes: 49 | Win count: 131 | Win rate: 1.000 | time: 12.35 minutes\n",
      "Epoch: 148/14999 | Loss: 0.0007 | Episodes: 19 | Win count: 132 | Win rate: 1.000 | time: 12.39 minutes\n",
      "Epoch: 149/14999 | Loss: 0.0007 | Episodes: 42 | Win count: 133 | Win rate: 1.000 | time: 12.49 minutes\n",
      "Epoch: 150/14999 | Loss: 0.0008 | Episodes: 26 | Win count: 134 | Win rate: 1.000 | time: 12.55 minutes\n",
      "Epoch: 151/14999 | Loss: 0.0003 | Episodes: 3 | Win count: 135 | Win rate: 1.000 | time: 12.57 minutes\n",
      "Epoch: 152/14999 | Loss: 0.0008 | Episodes: 30 | Win count: 136 | Win rate: 1.000 | time: 12.64 minutes\n",
      "Epoch: 153/14999 | Loss: 0.0010 | Episodes: 35 | Win count: 137 | Win rate: 1.000 | time: 12.71 minutes\n",
      "Epoch: 154/14999 | Loss: 0.0011 | Episodes: 11 | Win count: 138 | Win rate: 1.000 | time: 12.73 minutes\n",
      "Epoch: 155/14999 | Loss: 0.0015 | Episodes: 31 | Win count: 139 | Win rate: 1.000 | time: 12.80 minutes\n",
      "Epoch: 156/14999 | Loss: 0.0008 | Episodes: 13 | Win count: 140 | Win rate: 1.000 | time: 12.83 minutes\n",
      "Epoch: 157/14999 | Loss: 0.0006 | Episodes: 4 | Win count: 141 | Win rate: 1.000 | time: 12.84 minutes\n",
      "Epoch: 158/14999 | Loss: 0.0004 | Episodes: 27 | Win count: 142 | Win rate: 1.000 | time: 12.90 minutes\n",
      "Epoch: 159/14999 | Loss: 0.0009 | Episodes: 35 | Win count: 143 | Win rate: 1.000 | time: 12.97 minutes\n",
      "Epoch: 160/14999 | Loss: 0.0009 | Episodes: 1 | Win count: 144 | Win rate: 1.000 | time: 12.98 minutes\n",
      "Epoch: 161/14999 | Loss: 0.0006 | Episodes: 1 | Win count: 145 | Win rate: 1.000 | time: 12.98 minutes\n",
      "Epoch: 162/14999 | Loss: 0.0007 | Episodes: 23 | Win count: 146 | Win rate: 1.000 | time: 13.04 minutes\n",
      "Epoch: 163/14999 | Loss: 0.0010 | Episodes: 29 | Win count: 147 | Win rate: 1.000 | time: 13.11 minutes\n",
      "Epoch: 164/14999 | Loss: 0.0005 | Episodes: 22 | Win count: 148 | Win rate: 1.000 | time: 13.16 minutes\n",
      "Epoch: 165/14999 | Loss: 0.0009 | Episodes: 31 | Win count: 149 | Win rate: 1.000 | time: 13.22 minutes\n",
      "Epoch: 166/14999 | Loss: 0.0010 | Episodes: 30 | Win count: 150 | Win rate: 1.000 | time: 13.29 minutes\n",
      "Epoch: 167/14999 | Loss: 0.0015 | Episodes: 33 | Win count: 151 | Win rate: 1.000 | time: 13.36 minutes\n",
      "Epoch: 168/14999 | Loss: 0.0007 | Episodes: 24 | Win count: 152 | Win rate: 1.000 | time: 13.41 minutes\n",
      "Epoch: 169/14999 | Loss: 0.0011 | Episodes: 19 | Win count: 153 | Win rate: 1.000 | time: 13.46 minutes\n",
      "Epoch: 170/14999 | Loss: 0.0004 | Episodes: 18 | Win count: 154 | Win rate: 1.000 | time: 13.51 minutes\n",
      "Epoch: 171/14999 | Loss: 0.0008 | Episodes: 15 | Win count: 155 | Win rate: 1.000 | time: 13.54 minutes\n",
      "Epoch: 172/14999 | Loss: 0.0001 | Episodes: 26 | Win count: 156 | Win rate: 1.000 | time: 13.60 minutes\n",
      "Epoch: 173/14999 | Loss: 0.0005 | Episodes: 17 | Win count: 157 | Win rate: 1.000 | time: 13.64 minutes\n",
      "Epoch: 174/14999 | Loss: 0.0003 | Episodes: 10 | Win count: 158 | Win rate: 1.000 | time: 13.67 minutes\n",
      "Epoch: 175/14999 | Loss: 0.0008 | Episodes: 8 | Win count: 159 | Win rate: 1.000 | time: 13.69 minutes\n",
      "Epoch: 176/14999 | Loss: 0.0015 | Episodes: 2 | Win count: 160 | Win rate: 1.000 | time: 13.70 minutes\n",
      "Epoch: 177/14999 | Loss: 0.0004 | Episodes: 24 | Win count: 161 | Win rate: 1.000 | time: 13.75 minutes\n",
      "Epoch: 178/14999 | Loss: 0.0005 | Episodes: 7 | Win count: 162 | Win rate: 1.000 | time: 13.77 minutes\n",
      "Epoch: 179/14999 | Loss: 0.0007 | Episodes: 16 | Win count: 163 | Win rate: 1.000 | time: 13.80 minutes\n",
      "Epoch: 180/14999 | Loss: 0.0009 | Episodes: 14 | Win count: 164 | Win rate: 1.000 | time: 13.83 minutes\n",
      "Epoch: 181/14999 | Loss: 0.0008 | Episodes: 30 | Win count: 165 | Win rate: 1.000 | time: 13.89 minutes\n",
      "Epoch: 182/14999 | Loss: 0.0011 | Episodes: 14 | Win count: 166 | Win rate: 1.000 | time: 13.92 minutes\n",
      "Epoch: 183/14999 | Loss: 0.0012 | Episodes: 30 | Win count: 167 | Win rate: 1.000 | time: 13.98 minutes\n",
      "Epoch: 184/14999 | Loss: 0.0008 | Episodes: 37 | Win count: 168 | Win rate: 1.000 | time: 14.05 minutes\n",
      "Epoch: 185/14999 | Loss: 0.0009 | Episodes: 3 | Win count: 169 | Win rate: 1.000 | time: 14.06 minutes\n",
      "Epoch: 186/14999 | Loss: 0.0006 | Episodes: 16 | Win count: 170 | Win rate: 1.000 | time: 14.10 minutes\n",
      "Epoch: 187/14999 | Loss: 0.0011 | Episodes: 14 | Win count: 171 | Win rate: 1.000 | time: 14.13 minutes\n",
      "Epoch: 188/14999 | Loss: 0.0009 | Episodes: 1 | Win count: 172 | Win rate: 1.000 | time: 14.13 minutes\n",
      "Epoch: 189/14999 | Loss: 0.0008 | Episodes: 27 | Win count: 173 | Win rate: 1.000 | time: 14.18 minutes\n",
      "Epoch: 190/14999 | Loss: 0.0006 | Episodes: 19 | Win count: 174 | Win rate: 1.000 | time: 14.21 minutes\n",
      "Epoch: 191/14999 | Loss: 0.0007 | Episodes: 31 | Win count: 175 | Win rate: 1.000 | time: 14.26 minutes\n",
      "Epoch: 192/14999 | Loss: 0.0006 | Episodes: 29 | Win count: 176 | Win rate: 1.000 | time: 14.30 minutes\n",
      "Epoch: 193/14999 | Loss: 0.0014 | Episodes: 23 | Win count: 177 | Win rate: 1.000 | time: 14.33 minutes\n",
      "Epoch: 194/14999 | Loss: 0.0008 | Episodes: 27 | Win count: 178 | Win rate: 1.000 | time: 14.38 minutes\n",
      "Epoch: 195/14999 | Loss: 0.0003 | Episodes: 4 | Win count: 179 | Win rate: 1.000 | time: 14.39 minutes\n",
      "Epoch: 196/14999 | Loss: 0.0006 | Episodes: 6 | Win count: 180 | Win rate: 1.000 | time: 14.40 minutes\n",
      "Epoch: 197/14999 | Loss: 0.0009 | Episodes: 9 | Win count: 181 | Win rate: 1.000 | time: 14.41 minutes\n",
      "Epoch: 198/14999 | Loss: 0.0004 | Episodes: 13 | Win count: 182 | Win rate: 1.000 | time: 14.43 minutes\n",
      "Epoch: 199/14999 | Loss: 0.0004 | Episodes: 35 | Win count: 183 | Win rate: 1.000 | time: 14.48 minutes\n",
      "Epoch: 200/14999 | Loss: 0.0012 | Episodes: 24 | Win count: 184 | Win rate: 1.000 | time: 14.51 minutes\n",
      "Epoch: 201/14999 | Loss: 0.0012 | Episodes: 19 | Win count: 185 | Win rate: 1.000 | time: 14.54 minutes\n",
      "Epoch: 202/14999 | Loss: 0.0008 | Episodes: 18 | Win count: 186 | Win rate: 1.000 | time: 14.57 minutes\n",
      "Epoch: 203/14999 | Loss: 0.0007 | Episodes: 29 | Win count: 187 | Win rate: 1.000 | time: 14.61 minutes\n",
      "Epoch: 204/14999 | Loss: 0.0007 | Episodes: 1 | Win count: 188 | Win rate: 1.000 | time: 14.61 minutes\n",
      "Epoch: 205/14999 | Loss: 0.0009 | Episodes: 39 | Win count: 189 | Win rate: 1.000 | time: 14.67 minutes\n",
      "Epoch: 206/14999 | Loss: 0.0007 | Episodes: 5 | Win count: 190 | Win rate: 1.000 | time: 14.68 minutes\n",
      "Epoch: 207/14999 | Loss: 0.0009 | Episodes: 4 | Win count: 191 | Win rate: 1.000 | time: 14.69 minutes\n",
      "Epoch: 208/14999 | Loss: 0.0005 | Episodes: 8 | Win count: 192 | Win rate: 1.000 | time: 14.70 minutes\n",
      "Epoch: 209/14999 | Loss: 0.0005 | Episodes: 8 | Win count: 193 | Win rate: 1.000 | time: 14.72 minutes\n",
      "Epoch: 210/14999 | Loss: 0.0007 | Episodes: 25 | Win count: 194 | Win rate: 1.000 | time: 14.75 minutes\n",
      "Epoch: 211/14999 | Loss: 0.0014 | Episodes: 12 | Win count: 195 | Win rate: 1.000 | time: 14.76 minutes\n",
      "Epoch: 212/14999 | Loss: 0.0008 | Episodes: 39 | Win count: 196 | Win rate: 1.000 | time: 14.82 minutes\n",
      "Epoch: 213/14999 | Loss: 0.0010 | Episodes: 30 | Win count: 197 | Win rate: 1.000 | time: 14.86 minutes\n",
      "Epoch: 214/14999 | Loss: 0.0012 | Episodes: 14 | Win count: 198 | Win rate: 1.000 | time: 14.88 minutes\n",
      "Epoch: 215/14999 | Loss: 0.0002 | Episodes: 20 | Win count: 199 | Win rate: 1.000 | time: 14.91 minutes\n",
      "Epoch: 216/14999 | Loss: 0.0007 | Episodes: 48 | Win count: 200 | Win rate: 1.000 | time: 14.97 minutes\n",
      "Epoch: 217/14999 | Loss: 0.0007 | Episodes: 5 | Win count: 201 | Win rate: 1.000 | time: 14.98 minutes\n",
      "Epoch: 218/14999 | Loss: 0.0011 | Episodes: 25 | Win count: 202 | Win rate: 1.000 | time: 15.01 minutes\n",
      "Epoch: 219/14999 | Loss: 0.0009 | Episodes: 17 | Win count: 203 | Win rate: 1.000 | time: 15.03 minutes\n",
      "Epoch: 220/14999 | Loss: 0.0009 | Episodes: 3 | Win count: 204 | Win rate: 1.000 | time: 15.05 minutes\n",
      "Epoch: 221/14999 | Loss: 0.0011 | Episodes: 11 | Win count: 205 | Win rate: 1.000 | time: 15.07 minutes\n",
      "Epoch: 222/14999 | Loss: 0.0008 | Episodes: 2 | Win count: 206 | Win rate: 1.000 | time: 15.07 minutes\n",
      "Epoch: 223/14999 | Loss: 0.0012 | Episodes: 11 | Win count: 207 | Win rate: 1.000 | time: 15.09 minutes\n",
      "Epoch: 224/14999 | Loss: 0.0004 | Episodes: 7 | Win count: 208 | Win rate: 1.000 | time: 15.10 minutes\n",
      "Epoch: 225/14999 | Loss: 0.0005 | Episodes: 7 | Win count: 209 | Win rate: 1.000 | time: 15.11 minutes\n",
      "Epoch: 226/14999 | Loss: 0.0010 | Episodes: 1 | Win count: 210 | Win rate: 1.000 | time: 15.12 minutes\n",
      "Epoch: 227/14999 | Loss: 0.0011 | Episodes: 15 | Win count: 211 | Win rate: 1.000 | time: 15.14 minutes\n",
      "Epoch: 228/14999 | Loss: 0.0002 | Episodes: 25 | Win count: 212 | Win rate: 1.000 | time: 15.17 minutes\n",
      "Epoch: 229/14999 | Loss: 0.0008 | Episodes: 9 | Win count: 213 | Win rate: 1.000 | time: 15.18 minutes\n",
      "Epoch: 230/14999 | Loss: 0.0006 | Episodes: 16 | Win count: 214 | Win rate: 1.000 | time: 15.20 minutes\n",
      "Epoch: 231/14999 | Loss: 0.0006 | Episodes: 10 | Win count: 215 | Win rate: 1.000 | time: 15.22 minutes\n",
      "Epoch: 232/14999 | Loss: 0.0003 | Episodes: 21 | Win count: 216 | Win rate: 1.000 | time: 15.24 minutes\n",
      "Epoch: 233/14999 | Loss: 0.0005 | Episodes: 17 | Win count: 217 | Win rate: 1.000 | time: 15.26 minutes\n",
      "Epoch: 234/14999 | Loss: 0.0002 | Episodes: 9 | Win count: 218 | Win rate: 1.000 | time: 15.28 minutes\n",
      "Epoch: 235/14999 | Loss: 0.0003 | Episodes: 17 | Win count: 219 | Win rate: 1.000 | time: 15.30 minutes\n",
      "Epoch: 236/14999 | Loss: 0.0005 | Episodes: 1 | Win count: 220 | Win rate: 1.000 | time: 15.30 minutes\n",
      "Epoch: 237/14999 | Loss: 0.0004 | Episodes: 38 | Win count: 221 | Win rate: 1.000 | time: 15.35 minutes\n",
      "Epoch: 238/14999 | Loss: 0.0002 | Episodes: 8 | Win count: 222 | Win rate: 1.000 | time: 15.36 minutes\n",
      "Epoch: 239/14999 | Loss: 0.0009 | Episodes: 15 | Win count: 223 | Win rate: 1.000 | time: 15.38 minutes\n",
      "Epoch: 240/14999 | Loss: 0.0005 | Episodes: 1 | Win count: 224 | Win rate: 1.000 | time: 15.38 minutes\n",
      "Epoch: 241/14999 | Loss: 0.0002 | Episodes: 9 | Win count: 225 | Win rate: 1.000 | time: 15.40 minutes\n",
      "Epoch: 242/14999 | Loss: 0.0003 | Episodes: 25 | Win count: 226 | Win rate: 1.000 | time: 15.43 minutes\n",
      "Epoch: 243/14999 | Loss: 0.0009 | Episodes: 14 | Win count: 227 | Win rate: 1.000 | time: 15.45 minutes\n",
      "Epoch: 244/14999 | Loss: 0.0008 | Episodes: 31 | Win count: 228 | Win rate: 1.000 | time: 15.49 minutes\n",
      "Epoch: 245/14999 | Loss: 0.0005 | Episodes: 11 | Win count: 229 | Win rate: 1.000 | time: 15.51 minutes\n",
      "Epoch: 246/14999 | Loss: 0.0003 | Episodes: 2 | Win count: 230 | Win rate: 1.000 | time: 15.52 minutes\n",
      "Epoch: 247/14999 | Loss: 0.0006 | Episodes: 31 | Win count: 231 | Win rate: 1.000 | time: 15.56 minutes\n",
      "Epoch: 248/14999 | Loss: 0.0004 | Episodes: 17 | Win count: 232 | Win rate: 1.000 | time: 15.58 minutes\n",
      "Epoch: 249/14999 | Loss: 0.0003 | Episodes: 34 | Win count: 233 | Win rate: 1.000 | time: 15.62 minutes\n",
      "Epoch: 250/14999 | Loss: 0.0009 | Episodes: 18 | Win count: 234 | Win rate: 1.000 | time: 15.64 minutes\n",
      "Epoch: 251/14999 | Loss: 0.0004 | Episodes: 24 | Win count: 235 | Win rate: 1.000 | time: 15.67 minutes\n",
      "Epoch: 252/14999 | Loss: 0.0007 | Episodes: 7 | Win count: 236 | Win rate: 1.000 | time: 15.68 minutes\n",
      "Epoch: 253/14999 | Loss: 0.0012 | Episodes: 21 | Win count: 237 | Win rate: 1.000 | time: 15.71 minutes\n",
      "Epoch: 254/14999 | Loss: 0.0005 | Episodes: 15 | Win count: 238 | Win rate: 1.000 | time: 15.73 minutes\n",
      "Epoch: 255/14999 | Loss: 0.0005 | Episodes: 5 | Win count: 239 | Win rate: 1.000 | time: 15.74 minutes\n",
      "Epoch: 256/14999 | Loss: 0.0004 | Episodes: 47 | Win count: 240 | Win rate: 1.000 | time: 15.80 minutes\n",
      "Epoch: 257/14999 | Loss: 0.0006 | Episodes: 20 | Win count: 241 | Win rate: 1.000 | time: 15.83 minutes\n",
      "Epoch: 258/14999 | Loss: 0.0006 | Episodes: 10 | Win count: 242 | Win rate: 1.000 | time: 15.85 minutes\n",
      "Epoch: 259/14999 | Loss: 0.0007 | Episodes: 31 | Win count: 243 | Win rate: 1.000 | time: 15.88 minutes\n",
      "Epoch: 260/14999 | Loss: 0.0009 | Episodes: 3 | Win count: 244 | Win rate: 1.000 | time: 15.89 minutes\n",
      "Epoch: 261/14999 | Loss: 0.0007 | Episodes: 33 | Win count: 245 | Win rate: 1.000 | time: 15.93 minutes\n",
      "Epoch: 262/14999 | Loss: 0.0003 | Episodes: 4 | Win count: 246 | Win rate: 1.000 | time: 15.94 minutes\n",
      "Epoch: 263/14999 | Loss: 0.0002 | Episodes: 37 | Win count: 247 | Win rate: 1.000 | time: 15.98 minutes\n",
      "Epoch: 264/14999 | Loss: 0.0006 | Episodes: 38 | Win count: 248 | Win rate: 1.000 | time: 16.05 minutes\n",
      "Epoch: 265/14999 | Loss: 0.0004 | Episodes: 8 | Win count: 249 | Win rate: 1.000 | time: 16.07 minutes\n",
      "Epoch: 266/14999 | Loss: 0.0004 | Episodes: 29 | Win count: 250 | Win rate: 1.000 | time: 16.12 minutes\n",
      "Epoch: 267/14999 | Loss: 0.0005 | Episodes: 14 | Win count: 251 | Win rate: 1.000 | time: 16.16 minutes\n",
      "Epoch: 268/14999 | Loss: 0.0007 | Episodes: 26 | Win count: 252 | Win rate: 1.000 | time: 16.22 minutes\n",
      "Epoch: 269/14999 | Loss: 0.0011 | Episodes: 24 | Win count: 253 | Win rate: 1.000 | time: 16.27 minutes\n",
      "Epoch: 270/14999 | Loss: 0.0010 | Episodes: 20 | Win count: 254 | Win rate: 1.000 | time: 16.31 minutes\n",
      "Epoch: 271/14999 | Loss: 0.0006 | Episodes: 17 | Win count: 255 | Win rate: 1.000 | time: 16.35 minutes\n",
      "Epoch: 272/14999 | Loss: 0.0005 | Episodes: 49 | Win count: 256 | Win rate: 1.000 | time: 16.46 minutes\n",
      "Epoch: 273/14999 | Loss: 0.0009 | Episodes: 16 | Win count: 257 | Win rate: 1.000 | time: 16.50 minutes\n",
      "Epoch: 274/14999 | Loss: 0.0009 | Episodes: 25 | Win count: 258 | Win rate: 1.000 | time: 16.56 minutes\n",
      "Epoch: 275/14999 | Loss: 0.0014 | Episodes: 5 | Win count: 259 | Win rate: 1.000 | time: 16.57 minutes\n",
      "Epoch: 276/14999 | Loss: 0.0010 | Episodes: 38 | Win count: 260 | Win rate: 1.000 | time: 16.66 minutes\n",
      "Epoch: 277/14999 | Loss: 0.0013 | Episodes: 23 | Win count: 261 | Win rate: 1.000 | time: 16.71 minutes\n",
      "Epoch: 278/14999 | Loss: 0.0012 | Episodes: 14 | Win count: 262 | Win rate: 1.000 | time: 16.74 minutes\n",
      "Epoch: 279/14999 | Loss: 0.0011 | Episodes: 9 | Win count: 263 | Win rate: 1.000 | time: 16.76 minutes\n",
      "Epoch: 280/14999 | Loss: 0.0009 | Episodes: 29 | Win count: 264 | Win rate: 1.000 | time: 16.83 minutes\n",
      "Epoch: 281/14999 | Loss: 0.0006 | Episodes: 34 | Win count: 265 | Win rate: 1.000 | time: 16.91 minutes\n",
      "Epoch: 282/14999 | Loss: 0.0011 | Episodes: 30 | Win count: 266 | Win rate: 1.000 | time: 16.98 minutes\n",
      "Epoch: 283/14999 | Loss: 0.0012 | Episodes: 2 | Win count: 267 | Win rate: 1.000 | time: 16.99 minutes\n",
      "Epoch: 284/14999 | Loss: 0.0010 | Episodes: 2 | Win count: 268 | Win rate: 1.000 | time: 17.00 minutes\n",
      "Epoch: 285/14999 | Loss: 0.0010 | Episodes: 34 | Win count: 269 | Win rate: 1.000 | time: 17.07 minutes\n",
      "Epoch: 286/14999 | Loss: 0.0007 | Episodes: 8 | Win count: 270 | Win rate: 1.000 | time: 17.08 minutes\n",
      "Epoch: 287/14999 | Loss: 0.0010 | Episodes: 12 | Win count: 271 | Win rate: 1.000 | time: 17.11 minutes\n",
      "Epoch: 288/14999 | Loss: 0.0004 | Episodes: 44 | Win count: 272 | Win rate: 1.000 | time: 17.21 minutes\n",
      "Epoch: 289/14999 | Loss: 0.0009 | Episodes: 23 | Win count: 273 | Win rate: 1.000 | time: 17.26 minutes\n",
      "Epoch: 290/14999 | Loss: 0.0004 | Episodes: 27 | Win count: 274 | Win rate: 1.000 | time: 17.32 minutes\n",
      "Epoch: 291/14999 | Loss: 0.0006 | Episodes: 12 | Win count: 275 | Win rate: 1.000 | time: 17.36 minutes\n",
      "Epoch: 292/14999 | Loss: 0.0009 | Episodes: 26 | Win count: 276 | Win rate: 1.000 | time: 17.41 minutes\n",
      "Epoch: 293/14999 | Loss: 0.0010 | Episodes: 28 | Win count: 277 | Win rate: 1.000 | time: 17.47 minutes\n",
      "Epoch: 294/14999 | Loss: 0.0013 | Episodes: 11 | Win count: 278 | Win rate: 1.000 | time: 17.50 minutes\n",
      "Epoch: 295/14999 | Loss: 0.0008 | Episodes: 31 | Win count: 279 | Win rate: 1.000 | time: 17.57 minutes\n",
      "Epoch: 296/14999 | Loss: 0.0008 | Episodes: 45 | Win count: 280 | Win rate: 1.000 | time: 17.66 minutes\n",
      "Epoch: 297/14999 | Loss: 0.0005 | Episodes: 22 | Win count: 281 | Win rate: 1.000 | time: 17.71 minutes\n",
      "Epoch: 298/14999 | Loss: 0.0005 | Episodes: 46 | Win count: 282 | Win rate: 1.000 | time: 17.80 minutes\n",
      "Epoch: 299/14999 | Loss: 0.0005 | Episodes: 27 | Win count: 283 | Win rate: 1.000 | time: 17.86 minutes\n",
      "Epoch: 300/14999 | Loss: 0.0010 | Episodes: 26 | Win count: 284 | Win rate: 1.000 | time: 17.91 minutes\n",
      "Epoch: 301/14999 | Loss: 0.0003 | Episodes: 37 | Win count: 285 | Win rate: 1.000 | time: 17.99 minutes\n",
      "Epoch: 302/14999 | Loss: 0.0015 | Episodes: 3 | Win count: 286 | Win rate: 1.000 | time: 18.00 minutes\n",
      "Epoch: 303/14999 | Loss: 0.0006 | Episodes: 6 | Win count: 287 | Win rate: 1.000 | time: 18.01 minutes\n",
      "Epoch: 304/14999 | Loss: 0.0004 | Episodes: 41 | Win count: 288 | Win rate: 1.000 | time: 18.09 minutes\n",
      "Epoch: 305/14999 | Loss: 0.0011 | Episodes: 40 | Win count: 289 | Win rate: 1.000 | time: 18.17 minutes\n",
      "Epoch: 306/14999 | Loss: 0.0007 | Episodes: 34 | Win count: 290 | Win rate: 1.000 | time: 18.24 minutes\n",
      "Epoch: 307/14999 | Loss: 0.0010 | Episodes: 30 | Win count: 291 | Win rate: 1.000 | time: 18.31 minutes\n",
      "Epoch: 308/14999 | Loss: 0.0009 | Episodes: 54 | Win count: 292 | Win rate: 1.000 | time: 18.42 minutes\n",
      "Epoch: 309/14999 | Loss: 0.0009 | Episodes: 13 | Win count: 293 | Win rate: 1.000 | time: 18.45 minutes\n",
      "Epoch: 310/14999 | Loss: 0.0010 | Episodes: 21 | Win count: 294 | Win rate: 1.000 | time: 18.50 minutes\n",
      "Epoch: 311/14999 | Loss: 0.0005 | Episodes: 28 | Win count: 295 | Win rate: 1.000 | time: 18.56 minutes\n",
      "Epoch: 312/14999 | Loss: 0.0010 | Episodes: 16 | Win count: 296 | Win rate: 1.000 | time: 18.59 minutes\n",
      "Epoch: 313/14999 | Loss: 0.0011 | Episodes: 29 | Win count: 297 | Win rate: 1.000 | time: 18.65 minutes\n",
      "Epoch: 314/14999 | Loss: 0.0007 | Episodes: 11 | Win count: 298 | Win rate: 1.000 | time: 18.68 minutes\n",
      "Epoch: 315/14999 | Loss: 0.0015 | Episodes: 19 | Win count: 299 | Win rate: 1.000 | time: 18.72 minutes\n",
      "Epoch: 316/14999 | Loss: 0.0007 | Episodes: 27 | Win count: 300 | Win rate: 1.000 | time: 18.78 minutes\n",
      "Epoch: 317/14999 | Loss: 0.0012 | Episodes: 15 | Win count: 301 | Win rate: 1.000 | time: 18.82 minutes\n",
      "Epoch: 318/14999 | Loss: 0.0006 | Episodes: 15 | Win count: 302 | Win rate: 1.000 | time: 18.85 minutes\n",
      "Epoch: 319/14999 | Loss: 0.0008 | Episodes: 12 | Win count: 303 | Win rate: 1.000 | time: 18.88 minutes\n",
      "Reached 100% win rate at epoch: 319\n",
      "Training completed in 18.90 minutes\n",
      "n_epoch: 319, max_mem: 512, data: 32, time: 18.90 minutes\n"
     ]
    },
    {
     "data": {
      "text/plain": [
       "1133.701535"
      ]
     },
     "execution_count": 11,
     "metadata": {},
     "output_type": "execute_result"
    }
   ],
   "source": [
    "model = build_model(maze)\n",
    "qtrain(model, maze, epochs=1000, max_memory=8*maze.size, data_size=32)"
   ]
  },
  {
   "cell_type": "markdown",
   "metadata": {},
   "source": [
    "This cell will check to see if the model passes the completion check. Note: This could take several minutes."
   ]
  },
  {
   "cell_type": "code",
   "execution_count": 12,
   "metadata": {},
   "outputs": [
    {
     "data": {
      "text/plain": [
       "<matplotlib.image.AxesImage at 0x2c69ca242c8>"
      ]
     },
     "execution_count": 12,
     "metadata": {},
     "output_type": "execute_result"
    },
    {
     "data": {
      "image/png": "[encoded data removed]",
      "text/plain": [
       "<Figure size 432x288 with 1 Axes>"
      ]
     },
     "metadata": {
      "needs_background": "light"
     },
     "output_type": "display_data"
    }
   ],
   "source": [
    "completion_check(model, qmaze)\n",
    "show(qmaze)"
   ]
  },
  {
   "cell_type": "markdown",
   "metadata": {},
   "source": [
    "This cell will test your model for one game. It will start the pirate at the top-left corner and run play_game. The agent should find a path from the starting position to the target (treasure). The treasure is located in the bottom-right corner."
   ]
  },
  {
   "cell_type": "code",
   "execution_count": 13,
   "metadata": {},
   "outputs": [
    {
     "data": {
      "text/plain": [
       "<matplotlib.image.AxesImage at 0x2c6a44e9e88>"
      ]
     },
     "execution_count": 13,
     "metadata": {},
     "output_type": "execute_result"
    },
    {
     "data": {
      "image/png": "[encoded data removed]",
      "text/plain": [
       "<Figure size 432x288 with 1 Axes>"
      ]
     },
     "metadata": {
      "needs_background": "light"
     },
     "output_type": "display_data"
    }
   ],
   "source": [
    "pirate_start = (0, 0)\n",
    "play_game(model, qmaze, pirate_start)\n",
    "show(qmaze)"
   ]
  },
  {
   "cell_type": "markdown",
   "metadata": {},
   "source": [
    "## Save and Submit Your Work\n",
    "After you have finished creating the code for your notebook, save your work. Make sure that your notebook contains your name in the filename (e.g. Doe_Jane_ProjectTwo.ipynb). This will help your instructor access and grade your work easily. Download a copy of your IPYNB file and submit it to Brightspace. Refer to the Jupyter Notebook in Apporto Tutorial if you need help with these tasks."
   ]
  }
 ],
 "metadata": {
  "kernelspec": {
   "display_name": "Python 3",
   "language": "python",
   "name": "python3"
  },
  "language_info": {
   "codemirror_mode": {
    "name": "ipython",
    "version": 3
   },
   "file_extension": ".py",
   "mimetype": "text/x-python",
   "name": "python",
   "nbconvert_exporter": "python",
   "pygments_lexer": "ipython3",
   "version": "3.7.4"
  }
 },
 "nbformat": 4,
 "nbformat_minor": 2
}
